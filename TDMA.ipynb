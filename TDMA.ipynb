{
 "cells": [
  {
   "cell_type": "code",
   "execution_count": 1,
   "id": "bd4b5e7d",
   "metadata": {},
   "outputs": [
    {
     "name": "stdout",
     "output_type": "stream",
     "text": [
      "Converged after 5037 iterations\n"
     ]
    },
    {
     "data": {
      "image/png": "[encoded data removed]",
      "text/plain": [
       "<Figure size 432x288 with 2 Axes>"
      ]
     },
     "metadata": {
      "needs_background": "light"
     },
     "output_type": "display_data"
    }
   ],
   "source": [
    "import numpy as np\n",
    "import matplotlib.pyplot as plt\n",
    "\n",
    "# Define parameters\n",
    "L = 1.0  # Length of the domain\n",
    "nx, ny = 81, 81  # Number of grid points in x and y\n",
    "dx = L / (nx - 1)\n",
    "dy = L / (ny - 1)\n",
    "max_iter = 10000  # Maximum number of iterations\n",
    "tolerance = 1e-6  # Convergence tolerance\n",
    "\n",
    "# Source term function\n",
    "def source_term(x, y):\n",
    "    return 50000 * np.exp(-50 * ((1 - x) ** 2 + y ** 2)) * (100 * ((1 - x) ** 2 + y ** 2) - 2)\n",
    "\n",
    "# Boundary conditions\n",
    "def phi_bc(x, y, side):\n",
    "    if side == 'left':\n",
    "        return 500 * np.exp(-50 * (1 + y ** 2))\n",
    "    elif side == 'right':\n",
    "        return 100 * (1 - y) + 500 * np.exp(-50 * y ** 2)\n",
    "    elif side == 'bottom':\n",
    "        return 100 * x + 500 * np.exp(-50 * (1 - x) ** 2)\n",
    "    elif side == 'top':\n",
    "        return 500 * np.exp(-50 * ((1 - x) ** 2 + 1))\n",
    "\n",
    "# TDMA solver for tridiagonal system\n",
    "def tdma(a, b, c, d):\n",
    "    n = len(d)\n",
    "    cp = np.zeros(n)\n",
    "    dp = np.zeros(n)\n",
    "\n",
    "    cp[0] = c[0] / b[0]\n",
    "    dp[0] = d[0] / b[0]\n",
    "\n",
    "    for i in range(1, n):\n",
    "        denom = b[i] - a[i] * cp[i - 1]\n",
    "        cp[i] = c[i] / denom\n",
    "        dp[i] = (d[i] - a[i] * dp[i - 1]) / denom\n",
    "\n",
    "    x = np.zeros(n)\n",
    "    x[-1] = dp[-1]\n",
    "    for i in range(n - 2, -1, -1):\n",
    "        x[i] = dp[i] - cp[i] * x[i + 1]\n",
    "\n",
    "    return x\n",
    "\n",
    "# Initialize the solution field\n",
    "phi = np.zeros((ny, nx))\n",
    "\n",
    "# Set boundary conditions\n",
    "x = np.linspace(0, L, nx)\n",
    "y = np.linspace(0, L, ny)\n",
    "\n",
    "for j in range(ny):\n",
    "    phi[j, 0] = phi_bc(0, y[j], 'left')      # Left boundary\n",
    "    phi[j, -1] = phi_bc(1, y[j], 'right')    # Right boundary\n",
    "\n",
    "for i in range(nx):\n",
    "    phi[0, i] = phi_bc(x[i], 0, 'bottom')    # Bottom boundary\n",
    "    phi[-1, i] = phi_bc(x[i], 1, 'top')      # Top boundary\n",
    "\n",
    "# Iterative solution using line-by-line TDMA (row sweep)\n",
    "for iteration in range(max_iter):\n",
    "    phi_old = np.copy(phi)\n",
    "    for j in range(1, ny-1):  # Sweep through rows (y-direction)\n",
    "        a = np.ones(nx-2) / dx**2  # Coefficients for TDMA\n",
    "        b = -2 * (1/dx**2 + 1/dy**2) * np.ones(nx-2)\n",
    "        c = np.ones(nx-2) / dx**2\n",
    "        d = -source_term(x[1:-1], y[j])\n",
    "\n",
    "        # Add the phi values from the neighboring points (y-direction)\n",
    "        d -= (phi[j+1, 1:-1] + phi[j-1, 1:-1]) / dy**2\n",
    "\n",
    "        # Solve the tridiagonal system for the current row\n",
    "        phi[j, 1:-1] = tdma(a, b, c, d)\n",
    "\n",
    "    # Check for convergence\n",
    "    error = np.linalg.norm(phi - phi_old)\n",
    "    if error < tolerance:\n",
    "        print(f'Converged after {iteration+1} iterations')\n",
    "        break\n",
    "\n",
    "# Plot the final solution\n",
    "X, Y = np.meshgrid(x, y)\n",
    "plt.contourf(X, Y, phi, 20, cmap='jet')\n",
    "plt.colorbar(label='Phi')\n",
    "plt.title(f'Contour plot of phi for {nx} x {ny} grid')\n",
    "plt.xlabel('x')\n",
    "plt.ylabel('y')\n",
    "plt.show()\n"
   ]
  },
  {
   "cell_type": "code",
   "execution_count": null,
   "id": "6267f95a",
   "metadata": {},
   "outputs": [],
   "source": []
  }
 ],
 "metadata": {
  "kernelspec": {
   "display_name": "Python 3 (ipykernel)",
   "language": "python",
   "name": "python3"
  },
  "language_info": {
   "codemirror_mode": {
    "name": "ipython",
    "version": 3
   },
   "file_extension": ".py",
   "mimetype": "text/x-python",
   "name": "python",
   "nbconvert_exporter": "python",
   "pygments_lexer": "ipython3",
   "version": "3.9.12"
  }
 },
 "nbformat": 4,
 "nbformat_minor": 5
}
